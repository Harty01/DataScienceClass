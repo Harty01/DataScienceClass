{
 "cells": [
  {
   "cell_type": "code",
   "execution_count": 3,
   "id": "2d405ff7",
   "metadata": {},
   "outputs": [],
   "source": [
    "import pandas as pd"
   ]
  },
  {
   "cell_type": "code",
   "execution_count": 5,
   "id": "18d08549",
   "metadata": {},
   "outputs": [
    {
     "name": "stderr",
     "output_type": "stream",
     "text": [
      "C:\\ProgramData\\anaconda3\\Lib\\site-packages\\openpyxl\\worksheet\\_read_only.py:79: UserWarning: Slicer List extension is not supported and will be removed\n",
      "  for idx, row in parser.parse():\n"
     ]
    }
   ],
   "source": [
    "df=pd.read_excel(r\"C:\\Users\\user\\Desktop\\DATA SCIENCE CLASS\\DataScienceClass\\Cars sale report working sheet.xlsx\")"
   ]
  },
  {
   "cell_type": "code",
   "execution_count": 68,
   "id": "8cc69f60",
   "metadata": {},
   "outputs": [],
   "source": [
    "df=pd.read_excel('Cars sale report working sheet.xlsx',sheet_name='Sheet1')"
   ]
  },
  {
   "cell_type": "code",
   "execution_count": 69,
   "id": "c34edb27",
   "metadata": {},
   "outputs": [
    {
     "data": {
      "text/html": [
       "<div>\n",
       "<style scoped>\n",
       "    .dataframe tbody tr th:only-of-type {\n",
       "        vertical-align: middle;\n",
       "    }\n",
       "\n",
       "    .dataframe tbody tr th {\n",
       "        vertical-align: top;\n",
       "    }\n",
       "\n",
       "    .dataframe thead th {\n",
       "        text-align: right;\n",
       "    }\n",
       "</style>\n",
       "<table border=\"1\" class=\"dataframe\">\n",
       "  <thead>\n",
       "    <tr style=\"text-align: right;\">\n",
       "      <th></th>\n",
       "      <th>Purchase order</th>\n",
       "      <th>Invoice date</th>\n",
       "      <th>Record type</th>\n",
       "      <th>Quantity</th>\n",
       "      <th>Amount with VAT</th>\n",
       "      <th>Total cost in local currency</th>\n",
       "      <th>Purchase order amount\\t</th>\n",
       "      <th>Type of business</th>\n",
       "      <th>Brand</th>\n",
       "      <th>Type of payment</th>\n",
       "      <th>Model</th>\n",
       "      <th>Car</th>\n",
       "      <th>Company\\t</th>\n",
       "      <th>Site\\t</th>\n",
       "      <th>Service consultant</th>\n",
       "      <th>Salesman</th>\n",
       "    </tr>\n",
       "  </thead>\n",
       "  <tbody>\n",
       "    <tr>\n",
       "      <th>0</th>\n",
       "      <td>5869401</td>\n",
       "      <td>2021-06-03</td>\n",
       "      <td>Job</td>\n",
       "      <td>0.30</td>\n",
       "      <td>252.00</td>\n",
       "      <td>0.000</td>\n",
       "      <td>756.000</td>\n",
       "      <td>Repair</td>\n",
       "      <td>SKODA</td>\n",
       "      <td>Non-cash. calculation</td>\n",
       "      <td>Rapid</td>\n",
       "      <td>RAPID AMB MP 81/1.6 A6F</td>\n",
       "      <td>Premium West</td>\n",
       "      <td>AutoNation USA</td>\n",
       "      <td>Johnson</td>\n",
       "      <td>NaN</td>\n",
       "    </tr>\n",
       "    <tr>\n",
       "      <th>1</th>\n",
       "      <td>5869401</td>\n",
       "      <td>2021-06-03</td>\n",
       "      <td>Job</td>\n",
       "      <td>0.10</td>\n",
       "      <td>84.00</td>\n",
       "      <td>0.000</td>\n",
       "      <td>756.000</td>\n",
       "      <td>Repair</td>\n",
       "      <td>SKODA</td>\n",
       "      <td>Non-cash. calculation</td>\n",
       "      <td>Rapid</td>\n",
       "      <td>RAPID AMB MP 81/1.6 A6F</td>\n",
       "      <td>Premium West</td>\n",
       "      <td>AutoNation USA</td>\n",
       "      <td>Johnson</td>\n",
       "      <td>NaN</td>\n",
       "    </tr>\n",
       "    <tr>\n",
       "      <th>2</th>\n",
       "      <td>5869401</td>\n",
       "      <td>2021-06-03</td>\n",
       "      <td>Job</td>\n",
       "      <td>0.50</td>\n",
       "      <td>420.00</td>\n",
       "      <td>0.000</td>\n",
       "      <td>756.000</td>\n",
       "      <td>Repair</td>\n",
       "      <td>SKODA</td>\n",
       "      <td>Non-cash. calculation</td>\n",
       "      <td>Rapid</td>\n",
       "      <td>RAPID AMB MP 81/1.6 A6F</td>\n",
       "      <td>Premium West</td>\n",
       "      <td>AutoNation USA</td>\n",
       "      <td>Johnson</td>\n",
       "      <td>NaN</td>\n",
       "    </tr>\n",
       "    <tr>\n",
       "      <th>3</th>\n",
       "      <td>1275718</td>\n",
       "      <td>2021-06-03</td>\n",
       "      <td>Job</td>\n",
       "      <td>0.30</td>\n",
       "      <td>252.00</td>\n",
       "      <td>0.000</td>\n",
       "      <td>756.000</td>\n",
       "      <td>Repair</td>\n",
       "      <td>SKODA</td>\n",
       "      <td>Non-cash. calculation</td>\n",
       "      <td>Octavia</td>\n",
       "      <td>OCTAVIA AMB TS 110/1.4 A8F</td>\n",
       "      <td>Premium West</td>\n",
       "      <td>CarMax</td>\n",
       "      <td>Johnson</td>\n",
       "      <td>NaN</td>\n",
       "    </tr>\n",
       "    <tr>\n",
       "      <th>4</th>\n",
       "      <td>1275718</td>\n",
       "      <td>2021-06-03</td>\n",
       "      <td>Job</td>\n",
       "      <td>0.10</td>\n",
       "      <td>84.00</td>\n",
       "      <td>0.000</td>\n",
       "      <td>756.000</td>\n",
       "      <td>Repair</td>\n",
       "      <td>SKODA</td>\n",
       "      <td>Non-cash. calculation</td>\n",
       "      <td>Octavia</td>\n",
       "      <td>OCTAVIA AMB TS 110/1.4 A8F</td>\n",
       "      <td>Premium West</td>\n",
       "      <td>CarMax</td>\n",
       "      <td>Johnson</td>\n",
       "      <td>NaN</td>\n",
       "    </tr>\n",
       "    <tr>\n",
       "      <th>...</th>\n",
       "      <td>...</td>\n",
       "      <td>...</td>\n",
       "      <td>...</td>\n",
       "      <td>...</td>\n",
       "      <td>...</td>\n",
       "      <td>...</td>\n",
       "      <td>...</td>\n",
       "      <td>...</td>\n",
       "      <td>...</td>\n",
       "      <td>...</td>\n",
       "      <td>...</td>\n",
       "      <td>...</td>\n",
       "      <td>...</td>\n",
       "      <td>...</td>\n",
       "      <td>...</td>\n",
       "      <td>...</td>\n",
       "    </tr>\n",
       "    <tr>\n",
       "      <th>1244</th>\n",
       "      <td>1938036</td>\n",
       "      <td>2021-06-03</td>\n",
       "      <td>Job</td>\n",
       "      <td>0.10</td>\n",
       "      <td>360.00</td>\n",
       "      <td>0.000</td>\n",
       "      <td>10398.432</td>\n",
       "      <td>Repair</td>\n",
       "      <td>SKODA</td>\n",
       "      <td>Non-cash. calculation</td>\n",
       "      <td>Rapid</td>\n",
       "      <td>RAPID ACT MP 81/1.6 A6F</td>\n",
       "      <td>Premium West</td>\n",
       "      <td>CarMax</td>\n",
       "      <td>Lewis</td>\n",
       "      <td>NaN</td>\n",
       "    </tr>\n",
       "    <tr>\n",
       "      <th>1245</th>\n",
       "      <td>1938036</td>\n",
       "      <td>2021-06-03</td>\n",
       "      <td>Job</td>\n",
       "      <td>0.15</td>\n",
       "      <td>126.00</td>\n",
       "      <td>0.000</td>\n",
       "      <td>10398.432</td>\n",
       "      <td>Repair</td>\n",
       "      <td>SKODA</td>\n",
       "      <td>Non-cash. calculation</td>\n",
       "      <td>Rapid</td>\n",
       "      <td>RAPID ACT MP 81/1.6 A6F</td>\n",
       "      <td>Premium West</td>\n",
       "      <td>CarMax</td>\n",
       "      <td>Lewis</td>\n",
       "      <td>NaN</td>\n",
       "    </tr>\n",
       "    <tr>\n",
       "      <th>1246</th>\n",
       "      <td>1938036</td>\n",
       "      <td>2021-06-03</td>\n",
       "      <td>Spare part</td>\n",
       "      <td>2.00</td>\n",
       "      <td>14.40</td>\n",
       "      <td>6.072</td>\n",
       "      <td>10398.432</td>\n",
       "      <td>Repair</td>\n",
       "      <td>SKODA</td>\n",
       "      <td>Non-cash. calculation</td>\n",
       "      <td>Rapid</td>\n",
       "      <td>RAPID ACT MP 81/1.6 A6F</td>\n",
       "      <td>Premium West</td>\n",
       "      <td>CarMax</td>\n",
       "      <td>Lewis</td>\n",
       "      <td>NaN</td>\n",
       "    </tr>\n",
       "    <tr>\n",
       "      <th>1247</th>\n",
       "      <td>2100176</td>\n",
       "      <td>2021-06-03</td>\n",
       "      <td>Spare part</td>\n",
       "      <td>1.00</td>\n",
       "      <td>690.00</td>\n",
       "      <td>389.484</td>\n",
       "      <td>690.000</td>\n",
       "      <td>Retail</td>\n",
       "      <td>Other brand</td>\n",
       "      <td>Cash</td>\n",
       "      <td>NaN</td>\n",
       "      <td>XXX</td>\n",
       "      <td>Premium West</td>\n",
       "      <td>Cars.com</td>\n",
       "      <td>Moore</td>\n",
       "      <td>NaN</td>\n",
       "    </tr>\n",
       "    <tr>\n",
       "      <th>1248</th>\n",
       "      <td>1248</td>\n",
       "      <td>NaT</td>\n",
       "      <td>NaN</td>\n",
       "      <td>NaN</td>\n",
       "      <td>3171208.02</td>\n",
       "      <td>NaN</td>\n",
       "      <td>NaN</td>\n",
       "      <td>NaN</td>\n",
       "      <td>NaN</td>\n",
       "      <td>NaN</td>\n",
       "      <td>NaN</td>\n",
       "      <td>NaN</td>\n",
       "      <td>NaN</td>\n",
       "      <td>NaN</td>\n",
       "      <td>NaN</td>\n",
       "      <td>NaN</td>\n",
       "    </tr>\n",
       "  </tbody>\n",
       "</table>\n",
       "<p>1249 rows × 16 columns</p>\n",
       "</div>"
      ],
      "text/plain": [
       "      Purchase order Invoice date Record type  Quantity  Amount with VAT  \\\n",
       "0            5869401   2021-06-03         Job      0.30           252.00   \n",
       "1            5869401   2021-06-03         Job      0.10            84.00   \n",
       "2            5869401   2021-06-03         Job      0.50           420.00   \n",
       "3            1275718   2021-06-03         Job      0.30           252.00   \n",
       "4            1275718   2021-06-03         Job      0.10            84.00   \n",
       "...              ...          ...         ...       ...              ...   \n",
       "1244         1938036   2021-06-03         Job      0.10           360.00   \n",
       "1245         1938036   2021-06-03         Job      0.15           126.00   \n",
       "1246         1938036   2021-06-03  Spare part      2.00            14.40   \n",
       "1247         2100176   2021-06-03  Spare part      1.00           690.00   \n",
       "1248            1248          NaT         NaN       NaN       3171208.02   \n",
       "\n",
       "      Total cost in local currency  Purchase order amount\\t Type of business  \\\n",
       "0                            0.000                  756.000           Repair   \n",
       "1                            0.000                  756.000           Repair   \n",
       "2                            0.000                  756.000           Repair   \n",
       "3                            0.000                  756.000           Repair   \n",
       "4                            0.000                  756.000           Repair   \n",
       "...                            ...                      ...              ...   \n",
       "1244                         0.000                10398.432           Repair   \n",
       "1245                         0.000                10398.432           Repair   \n",
       "1246                         6.072                10398.432           Repair   \n",
       "1247                       389.484                  690.000           Retail   \n",
       "1248                           NaN                      NaN              NaN   \n",
       "\n",
       "            Brand        Type of payment    Model                         Car  \\\n",
       "0           SKODA  Non-cash. calculation    Rapid     RAPID AMB MP 81/1.6 A6F   \n",
       "1           SKODA  Non-cash. calculation    Rapid     RAPID AMB MP 81/1.6 A6F   \n",
       "2           SKODA  Non-cash. calculation    Rapid     RAPID AMB MP 81/1.6 A6F   \n",
       "3           SKODA  Non-cash. calculation  Octavia  OCTAVIA AMB TS 110/1.4 A8F   \n",
       "4           SKODA  Non-cash. calculation  Octavia  OCTAVIA AMB TS 110/1.4 A8F   \n",
       "...           ...                    ...      ...                         ...   \n",
       "1244        SKODA  Non-cash. calculation    Rapid     RAPID ACT MP 81/1.6 A6F   \n",
       "1245        SKODA  Non-cash. calculation    Rapid     RAPID ACT MP 81/1.6 A6F   \n",
       "1246        SKODA  Non-cash. calculation    Rapid     RAPID ACT MP 81/1.6 A6F   \n",
       "1247  Other brand                   Cash      NaN                         XXX   \n",
       "1248          NaN                    NaN      NaN                         NaN   \n",
       "\n",
       "         Company\\t           Site\\t Service consultant Salesman  \n",
       "0     Premium West  AutoNation USA             Johnson      NaN  \n",
       "1     Premium West  AutoNation USA             Johnson      NaN  \n",
       "2     Premium West  AutoNation USA             Johnson      NaN  \n",
       "3     Premium West          CarMax             Johnson      NaN  \n",
       "4     Premium West          CarMax             Johnson      NaN  \n",
       "...            ...              ...                ...      ...  \n",
       "1244  Premium West          CarMax               Lewis      NaN  \n",
       "1245  Premium West          CarMax               Lewis      NaN  \n",
       "1246  Premium West          CarMax               Lewis      NaN  \n",
       "1247  Premium West        Cars.com               Moore      NaN  \n",
       "1248           NaN              NaN                NaN      NaN  \n",
       "\n",
       "[1249 rows x 16 columns]"
      ]
     },
     "execution_count": 69,
     "metadata": {},
     "output_type": "execute_result"
    }
   ],
   "source": [
    "df"
   ]
  },
  {
   "cell_type": "code",
   "execution_count": 70,
   "id": "73733f70",
   "metadata": {},
   "outputs": [
    {
     "data": {
      "text/plain": [
       "Index(['Purchase order', 'Invoice date', 'Record type', 'Quantity',\n",
       "       'Amount with VAT', 'Total cost in local currency',\n",
       "       'Purchase order amount\\t', 'Type of business', 'Brand',\n",
       "       'Type of payment', 'Model', 'Car', 'Company\\t', 'Site\\t',\n",
       "       'Service consultant', 'Salesman'],\n",
       "      dtype='object')"
      ]
     },
     "execution_count": 70,
     "metadata": {},
     "output_type": "execute_result"
    }
   ],
   "source": [
    "df.columns"
   ]
  },
  {
   "cell_type": "code",
   "execution_count": 71,
   "id": "e2e2d485",
   "metadata": {},
   "outputs": [
    {
     "data": {
      "text/html": [
       "<div>\n",
       "<style scoped>\n",
       "    .dataframe tbody tr th:only-of-type {\n",
       "        vertical-align: middle;\n",
       "    }\n",
       "\n",
       "    .dataframe tbody tr th {\n",
       "        vertical-align: top;\n",
       "    }\n",
       "\n",
       "    .dataframe thead th {\n",
       "        text-align: right;\n",
       "    }\n",
       "</style>\n",
       "<table border=\"1\" class=\"dataframe\">\n",
       "  <thead>\n",
       "    <tr style=\"text-align: right;\">\n",
       "      <th></th>\n",
       "      <th>Purchase order</th>\n",
       "      <th>Quantity</th>\n",
       "      <th>Amount with VAT</th>\n",
       "      <th>Total cost in local currency</th>\n",
       "      <th>Purchase order amount\\t</th>\n",
       "    </tr>\n",
       "  </thead>\n",
       "  <tbody>\n",
       "    <tr>\n",
       "      <th>count</th>\n",
       "      <td>1.249000e+03</td>\n",
       "      <td>1248.000000</td>\n",
       "      <td>1.249000e+03</td>\n",
       "      <td>1248.000000</td>\n",
       "      <td>1248.000000</td>\n",
       "    </tr>\n",
       "    <tr>\n",
       "      <th>mean</th>\n",
       "      <td>5.151609e+06</td>\n",
       "      <td>1.363591</td>\n",
       "      <td>5.077995e+03</td>\n",
       "      <td>1288.143394</td>\n",
       "      <td>37237.179202</td>\n",
       "    </tr>\n",
       "    <tr>\n",
       "      <th>std</th>\n",
       "      <td>2.613265e+06</td>\n",
       "      <td>6.002640</td>\n",
       "      <td>9.006154e+04</td>\n",
       "      <td>6213.667030</td>\n",
       "      <td>75948.853054</td>\n",
       "    </tr>\n",
       "    <tr>\n",
       "      <th>min</th>\n",
       "      <td>1.248000e+03</td>\n",
       "      <td>-4.000000</td>\n",
       "      <td>-2.905062e+04</td>\n",
       "      <td>-19480.584000</td>\n",
       "      <td>0.000000</td>\n",
       "    </tr>\n",
       "    <tr>\n",
       "      <th>25%</th>\n",
       "      <td>2.825370e+06</td>\n",
       "      <td>0.300000</td>\n",
       "      <td>2.520000e+02</td>\n",
       "      <td>0.000000</td>\n",
       "      <td>5791.128000</td>\n",
       "    </tr>\n",
       "    <tr>\n",
       "      <th>50%</th>\n",
       "      <td>4.933456e+06</td>\n",
       "      <td>1.000000</td>\n",
       "      <td>6.900000e+02</td>\n",
       "      <td>25.224000</td>\n",
       "      <td>17735.760000</td>\n",
       "    </tr>\n",
       "    <tr>\n",
       "      <th>75%</th>\n",
       "      <td>7.628440e+06</td>\n",
       "      <td>1.000000</td>\n",
       "      <td>2.030400e+03</td>\n",
       "      <td>660.822000</td>\n",
       "      <td>31982.880000</td>\n",
       "    </tr>\n",
       "    <tr>\n",
       "      <th>max</th>\n",
       "      <td>9.981690e+06</td>\n",
       "      <td>200.000000</td>\n",
       "      <td>3.171208e+06</td>\n",
       "      <td>112115.256000</td>\n",
       "      <td>388446.444000</td>\n",
       "    </tr>\n",
       "  </tbody>\n",
       "</table>\n",
       "</div>"
      ],
      "text/plain": [
       "       Purchase order     Quantity  Amount with VAT  \\\n",
       "count    1.249000e+03  1248.000000     1.249000e+03   \n",
       "mean     5.151609e+06     1.363591     5.077995e+03   \n",
       "std      2.613265e+06     6.002640     9.006154e+04   \n",
       "min      1.248000e+03    -4.000000    -2.905062e+04   \n",
       "25%      2.825370e+06     0.300000     2.520000e+02   \n",
       "50%      4.933456e+06     1.000000     6.900000e+02   \n",
       "75%      7.628440e+06     1.000000     2.030400e+03   \n",
       "max      9.981690e+06   200.000000     3.171208e+06   \n",
       "\n",
       "       Total cost in local currency  Purchase order amount\\t  \n",
       "count                   1248.000000              1248.000000  \n",
       "mean                    1288.143394             37237.179202  \n",
       "std                     6213.667030             75948.853054  \n",
       "min                   -19480.584000                 0.000000  \n",
       "25%                        0.000000              5791.128000  \n",
       "50%                       25.224000             17735.760000  \n",
       "75%                      660.822000             31982.880000  \n",
       "max                   112115.256000            388446.444000  "
      ]
     },
     "execution_count": 71,
     "metadata": {},
     "output_type": "execute_result"
    }
   ],
   "source": [
    "df.describe()"
   ]
  },
  {
   "cell_type": "code",
   "execution_count": 72,
   "id": "fa9d5549",
   "metadata": {},
   "outputs": [
    {
     "data": {
      "text/plain": [
       "Purchase order                     0\n",
       "Invoice date                       1\n",
       "Record type                        1\n",
       "Quantity                           1\n",
       "Amount with VAT                    0\n",
       "Total cost in local currency       1\n",
       "Purchase order amount\\t            1\n",
       "Type of business                   1\n",
       "Brand                              1\n",
       "Type of payment                    1\n",
       "Model                            189\n",
       "Car                                1\n",
       "Company\\t                          1\n",
       "Site\\t                             1\n",
       "Service consultant                 1\n",
       "Salesman                        1119\n",
       "dtype: int64"
      ]
     },
     "execution_count": 72,
     "metadata": {},
     "output_type": "execute_result"
    }
   ],
   "source": [
    "df.isnull().sum()\n"
   ]
  },
  {
   "cell_type": "code",
   "execution_count": 73,
   "id": "54d01ae0",
   "metadata": {},
   "outputs": [
    {
     "data": {
      "text/plain": [
       "count        130\n",
       "unique        23\n",
       "top       Wright\n",
       "freq          29\n",
       "Name: Salesman, dtype: object"
      ]
     },
     "execution_count": 73,
     "metadata": {},
     "output_type": "execute_result"
    }
   ],
   "source": [
    "df.Salesman.describe()"
   ]
  },
  {
   "cell_type": "code",
   "execution_count": 74,
   "id": "d9df9f05",
   "metadata": {},
   "outputs": [
    {
     "data": {
      "text/plain": [
       "count                      1248\n",
       "unique                        2\n",
       "top       Non-cash. calculation\n",
       "freq                        720\n",
       "Name: Type of payment, dtype: object"
      ]
     },
     "execution_count": 74,
     "metadata": {},
     "output_type": "execute_result"
    }
   ],
   "source": [
    "df['Type of payment'].describe()"
   ]
  },
  {
   "cell_type": "code",
   "execution_count": 75,
   "id": "da6e22ec",
   "metadata": {},
   "outputs": [
    {
     "name": "stdout",
     "output_type": "stream",
     "text": [
      "<class 'pandas.core.frame.DataFrame'>\n",
      "RangeIndex: 1249 entries, 0 to 1248\n",
      "Data columns (total 16 columns):\n",
      " #   Column                        Non-Null Count  Dtype         \n",
      "---  ------                        --------------  -----         \n",
      " 0   Purchase order                1249 non-null   int64         \n",
      " 1   Invoice date                  1248 non-null   datetime64[ns]\n",
      " 2   Record type                   1248 non-null   object        \n",
      " 3   Quantity                      1248 non-null   float64       \n",
      " 4   Amount with VAT               1249 non-null   float64       \n",
      " 5   Total cost in local currency  1248 non-null   float64       \n",
      " 6   Purchase order amount\t        1248 non-null   float64       \n",
      " 7   Type of business              1248 non-null   object        \n",
      " 8   Brand                         1248 non-null   object        \n",
      " 9   Type of payment               1248 non-null   object        \n",
      " 10  Model                         1060 non-null   object        \n",
      " 11  Car                           1248 non-null   object        \n",
      " 12  Company\t                      1248 non-null   object        \n",
      " 13  Site\t                         1248 non-null   object        \n",
      " 14  Service consultant            1248 non-null   object        \n",
      " 15  Salesman                      130 non-null    object        \n",
      "dtypes: datetime64[ns](1), float64(4), int64(1), object(10)\n",
      "memory usage: 156.3+ KB\n"
     ]
    }
   ],
   "source": [
    "df.info()"
   ]
  },
  {
   "cell_type": "code",
   "execution_count": 76,
   "id": "453b6713",
   "metadata": {},
   "outputs": [
    {
     "name": "stderr",
     "output_type": "stream",
     "text": [
      "C:\\Users\\user\\AppData\\Local\\Temp\\ipykernel_10168\\2009082583.py:1: FutureWarning: Treating datetime data as categorical rather than numeric in `.describe` is deprecated and will be removed in a future version of pandas. Specify `datetime_is_numeric=True` to silence this warning and adopt the future behavior now.\n",
      "  df['Invoice date'].describe()\n"
     ]
    },
    {
     "data": {
      "text/plain": [
       "count                    1248\n",
       "unique                      1\n",
       "top       2021-06-03 00:00:00\n",
       "freq                     1248\n",
       "first     2021-06-03 00:00:00\n",
       "last      2021-06-03 00:00:00\n",
       "Name: Invoice date, dtype: object"
      ]
     },
     "execution_count": 76,
     "metadata": {},
     "output_type": "execute_result"
    }
   ],
   "source": [
    "df['Invoice date'].describe()"
   ]
  },
  {
   "cell_type": "code",
   "execution_count": 77,
   "id": "f005d545",
   "metadata": {},
   "outputs": [
    {
     "data": {
      "text/plain": [
       "0       Repair\n",
       "1       Repair\n",
       "2       Repair\n",
       "3       Repair\n",
       "4       Repair\n",
       "         ...  \n",
       "1244    Repair\n",
       "1245    Repair\n",
       "1246    Repair\n",
       "1247    Retail\n",
       "1248    Repair\n",
       "Name: Type of business, Length: 1249, dtype: object"
      ]
     },
     "execution_count": 77,
     "metadata": {},
     "output_type": "execute_result"
    }
   ],
   "source": [
    "val=0\n",
    "if df['Type of business'].dtypes=='object':\n",
    "    val= df['Type of business'].fillna(df['Type of business'].mode()[0])\n",
    "elif df['Type of business'].dtypes=='datetime64[ns]':\n",
    "    val=df['Type of business'].fillna(df['Type of business'].mode()[0])\n",
    "\n",
    "elif df['Type of business'].mean()<df['Type of business'].std():\n",
    "        val=df['Type of business'].mean()\n",
    "else:\n",
    "    val=df['Type of business'].median()\n",
    "\n",
    "df['Type of business'].fillna(val, inplace= True)\n",
    "\n",
    "val"
   ]
  },
  {
   "cell_type": "code",
   "execution_count": 78,
   "id": "275158aa",
   "metadata": {},
   "outputs": [
    {
     "data": {
      "text/plain": [
       "0"
      ]
     },
     "execution_count": 78,
     "metadata": {},
     "output_type": "execute_result"
    }
   ],
   "source": [
    "df['Type of business'].isnull().sum()"
   ]
  },
  {
   "cell_type": "code",
   "execution_count": 79,
   "id": "ffb06ddf",
   "metadata": {},
   "outputs": [
    {
     "data": {
      "text/plain": [
       "'Repair'"
      ]
     },
     "execution_count": 79,
     "metadata": {},
     "output_type": "execute_result"
    }
   ],
   "source": [
    "df['Type of business'].mode()[0]"
   ]
  },
  {
   "cell_type": "code",
   "execution_count": 80,
   "id": "b28fb8bf",
   "metadata": {},
   "outputs": [
    {
     "ename": "TypeError",
     "evalue": "'<' not supported between instances of 'Timestamp' and 'Timedelta'",
     "output_type": "error",
     "traceback": [
      "\u001b[1;31m---------------------------------------------------------------------------\u001b[0m",
      "\u001b[1;31mTypeError\u001b[0m                                 Traceback (most recent call last)",
      "Cell \u001b[1;32mIn[80], line 9\u001b[0m\n\u001b[0;32m      7\u001b[0m         val\u001b[38;5;241m=\u001b[39mdf[col_name]\u001b[38;5;241m.\u001b[39mmedian()\n\u001b[0;32m      8\u001b[0m     df[col_name]\u001b[38;5;241m.\u001b[39mfillna(val, inplace\u001b[38;5;241m=\u001b[39m \u001b[38;5;28;01mTrue\u001b[39;00m)\n\u001b[1;32m----> 9\u001b[0m Missing_data(\u001b[38;5;124m'\u001b[39m\u001b[38;5;124mInvoice date\u001b[39m\u001b[38;5;124m'\u001b[39m)\n",
      "Cell \u001b[1;32mIn[80], line 4\u001b[0m, in \u001b[0;36mMissing_data\u001b[1;34m(col_name)\u001b[0m\n\u001b[0;32m      2\u001b[0m \u001b[38;5;28;01mif\u001b[39;00m df[col_name]\u001b[38;5;241m.\u001b[39mdtypes\u001b[38;5;241m==\u001b[39m\u001b[38;5;124m'\u001b[39m\u001b[38;5;124mobject\u001b[39m\u001b[38;5;124m'\u001b[39m:\n\u001b[0;32m      3\u001b[0m     val\u001b[38;5;241m=\u001b[39m df[col_name]\u001b[38;5;241m.\u001b[39mfillna(df[col_name]\u001b[38;5;241m.\u001b[39mmode()[\u001b[38;5;241m0\u001b[39m])\n\u001b[1;32m----> 4\u001b[0m \u001b[38;5;28;01melif\u001b[39;00m df[col_name]\u001b[38;5;241m.\u001b[39mmean()\u001b[38;5;241m<\u001b[39mdf[col_name]\u001b[38;5;241m.\u001b[39mstd():\n\u001b[0;32m      5\u001b[0m     val\u001b[38;5;241m=\u001b[39mdf[col_name]\u001b[38;5;241m.\u001b[39mmean()\n\u001b[0;32m      6\u001b[0m \u001b[38;5;28;01melse\u001b[39;00m:\n",
      "\u001b[1;31mTypeError\u001b[0m: '<' not supported between instances of 'Timestamp' and 'Timedelta'"
     ]
    }
   ],
   "source": [
    "def Missing_data(col_name):\n",
    "    if df[col_name].dtypes=='object':\n",
    "        val= df[col_name].fillna(df[col_name].mode()[0])\n",
    "    elif df[col_name].mean()<df[col_name].std():\n",
    "        val=df[col_name].mean()\n",
    "    else:\n",
    "        val=df[col_name].median()\n",
    "    df[col_name].fillna(val, inplace= True)\n",
    "Missing_data('Invoice date')\n"
   ]
  },
  {
   "cell_type": "code",
   "execution_count": 81,
   "id": "ec59c9cf",
   "metadata": {},
   "outputs": [
    {
     "data": {
      "text/plain": [
       "0      2021-06-03\n",
       "1      2021-06-03\n",
       "2      2021-06-03\n",
       "3      2021-06-03\n",
       "4      2021-06-03\n",
       "          ...    \n",
       "1244   2021-06-03\n",
       "1245   2021-06-03\n",
       "1246   2021-06-03\n",
       "1247   2021-06-03\n",
       "1248   2021-06-03\n",
       "Name: Invoice date, Length: 1249, dtype: datetime64[ns]"
      ]
     },
     "execution_count": 81,
     "metadata": {},
     "output_type": "execute_result"
    }
   ],
   "source": [
    "val=0\n",
    "if df['Invoice date'].dtypes=='object':\n",
    "    val= df['Invoice date'].fillna(df['Invoice date'].mode()[0])\n",
    "elif df['Invoice date'].dtypes=='datetime64[ns]':\n",
    "    val=df['Invoice date'].fillna(df['Invoice date'].mode()[0])\n",
    "\n",
    "elif df['Invoice date'].mean()<df['Invoice date'].std():\n",
    "        val=df['Invoice date'].mean()\n",
    "else:\n",
    "    val=df['Invoice date'].median()\n",
    "\n",
    "df['Invoice date'].fillna(val)\n",
    "\n",
    "val"
   ]
  },
  {
   "cell_type": "code",
   "execution_count": 82,
   "id": "77dccf16",
   "metadata": {},
   "outputs": [
    {
     "data": {
      "text/plain": [
       "1"
      ]
     },
     "execution_count": 82,
     "metadata": {},
     "output_type": "execute_result"
    }
   ],
   "source": [
    "df['Invoice date'].isnull().sum()"
   ]
  },
  {
   "cell_type": "code",
   "execution_count": 84,
   "id": "cd92651a",
   "metadata": {},
   "outputs": [
    {
     "data": {
      "text/plain": [
       "Purchase order                     0\n",
       "Invoice date                       1\n",
       "Record type                        1\n",
       "Quantity                           1\n",
       "Amount with VAT                    0\n",
       "Total cost in local currency       1\n",
       "Purchase order amount\\t            1\n",
       "Type of business                   0\n",
       "Brand                              1\n",
       "Type of payment                    1\n",
       "Model                            189\n",
       "Car                                1\n",
       "Company\\t                          1\n",
       "Site\\t                             1\n",
       "Service consultant                 1\n",
       "Salesman                        1119\n",
       "dtype: int64"
      ]
     },
     "execution_count": 84,
     "metadata": {},
     "output_type": "execute_result"
    }
   ],
   "source": [
    "df.isnull().sum()"
   ]
  },
  {
   "cell_type": "code",
   "execution_count": 99,
   "id": "c7c8bee1",
   "metadata": {},
   "outputs": [],
   "source": [
    "def Missing_data(col_name):\n",
    "    if df[col_name].dtypes=='object':\n",
    "        val= df[col_name].fillna(df[col_name].mode()[0])\n",
    "    elif df[col_name].dtypes=='datetime64[ns]':\n",
    "        val=df[col_name].fillna(df[col_name].mode()[0])\n",
    "\n",
    "    elif df[col_name].mean()<df[col_name].std():\n",
    "        val=df[col_name].mean()\n",
    "    else:\n",
    "        val=df[col_name].median()\n",
    "\n",
    "    df[col_name].fillna(val, inplace= True)\n",
    "Missing_data('Invoice date')\n",
    "Missing_data('Record type')\n",
    "Missing_data('Quantity')\n",
    "Missing_data('Total cost in local currency')\n",
    "Missing_data('Purchase order amount\\t')\n",
    "Missing_data('Brand')\n",
    "Missing_data('Type of payment')\n",
    "Missing_data('Model')\n",
    "Missing_data('Car')\n",
    "Missing_data('Company\\t')\n",
    "Missing_data('Site\\t')\n",
    "Missing_data('Service consultant')\n",
    "Missing_data('Salesman')"
   ]
  },
  {
   "cell_type": "code",
   "execution_count": 100,
   "id": "173a6f59",
   "metadata": {},
   "outputs": [
    {
     "data": {
      "text/plain": [
       "Purchase order                  0\n",
       "Invoice date                    0\n",
       "Record type                     0\n",
       "Quantity                        0\n",
       "Amount with VAT                 0\n",
       "Total cost in local currency    0\n",
       "Purchase order amount\\t         0\n",
       "Type of business                0\n",
       "Brand                           0\n",
       "Type of payment                 0\n",
       "Model                           0\n",
       "Car                             0\n",
       "Company\\t                       0\n",
       "Site\\t                          0\n",
       "Service consultant              0\n",
       "Salesman                        0\n",
       "dtype: int64"
      ]
     },
     "execution_count": 100,
     "metadata": {},
     "output_type": "execute_result"
    }
   ],
   "source": [
    "df.isnull().sum()"
   ]
  },
  {
   "cell_type": "code",
   "execution_count": null,
   "id": "e303e663",
   "metadata": {},
   "outputs": [],
   "source": []
  },
  {
   "cell_type": "code",
   "execution_count": null,
   "id": "54359dc4",
   "metadata": {},
   "outputs": [],
   "source": []
  }
 ],
 "metadata": {
  "kernelspec": {
   "display_name": "Python 3 (ipykernel)",
   "language": "python",
   "name": "python3"
  },
  "language_info": {
   "codemirror_mode": {
    "name": "ipython",
    "version": 3
   },
   "file_extension": ".py",
   "mimetype": "text/x-python",
   "name": "python",
   "nbconvert_exporter": "python",
   "pygments_lexer": "ipython3",
   "version": "3.11.4"
  }
 },
 "nbformat": 4,
 "nbformat_minor": 5
}
